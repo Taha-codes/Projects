{
 "cells": [
  {
   "cell_type": "markdown",
   "metadata": {},
   "source": [
    "Taha Chadli 85981 \n",
    "\n",
    "Assignment 3"
   ]
  },
  {
   "cell_type": "code",
   "execution_count": 42,
   "metadata": {},
   "outputs": [],
   "source": [
    "import pandas as pd"
   ]
  },
  {
   "cell_type": "code",
   "execution_count": 43,
   "metadata": {},
   "outputs": [
    {
     "data": {
      "text/html": [
       "<div>\n",
       "<style scoped>\n",
       "    .dataframe tbody tr th:only-of-type {\n",
       "        vertical-align: middle;\n",
       "    }\n",
       "\n",
       "    .dataframe tbody tr th {\n",
       "        vertical-align: top;\n",
       "    }\n",
       "\n",
       "    .dataframe thead th {\n",
       "        text-align: right;\n",
       "    }\n",
       "</style>\n",
       "<table border=\"1\" class=\"dataframe\">\n",
       "  <thead>\n",
       "    <tr style=\"text-align: right;\">\n",
       "      <th></th>\n",
       "      <th>text</th>\n",
       "      <th>newText</th>\n",
       "    </tr>\n",
       "  </thead>\n",
       "  <tbody>\n",
       "    <tr>\n",
       "      <th>0</th>\n",
       "      <td>رؤيا:م مانقدرش...</td>\n",
       "      <td>رؤيا: م مانقدرش...</td>\n",
       "    </tr>\n",
       "    <tr>\n",
       "      <th>1</th>\n",
       "      <td>أمين تصدم:ش شنو!!..واش حماقيتي...علاش ماتقدريش...</td>\n",
       "      <td>أمين تصدم: ش شنو!!.. واش حماقيتي... علاش ماتقد...</td>\n",
       "    </tr>\n",
       "    <tr>\n",
       "      <th>2</th>\n",
       "      <td>صلاح كيشوفيها عاض علا شنافتو..</td>\n",
       "      <td>صلاح كيشوفيها عاض علا شنافتو..</td>\n",
       "    </tr>\n",
       "    <tr>\n",
       "      <th>3</th>\n",
       "      <td>رؤيا:ل لا لا ماخايفاش..و ولكن خصني نبقى هنا......</td>\n",
       "      <td>رؤيا: ل لا لا ماخايفاش.. و ولكن خصني نبقى هنا....</td>\n",
       "    </tr>\n",
       "    <tr>\n",
       "      <th>4</th>\n",
       "      <td>أمين باستهزاء:واش باش ماتنوضش الفتنة تمشي نتي ...</td>\n",
       "      <td>أمين باستهزاء: واش باش ماتنوضش الفتنة تمشي نتي...</td>\n",
       "    </tr>\n",
       "  </tbody>\n",
       "</table>\n",
       "</div>"
      ],
      "text/plain": [
       "                                                text  \\\n",
       "0                                  رؤيا:م مانقدرش...   \n",
       "1  أمين تصدم:ش شنو!!..واش حماقيتي...علاش ماتقدريش...   \n",
       "2                     صلاح كيشوفيها عاض علا شنافتو..   \n",
       "3  رؤيا:ل لا لا ماخايفاش..و ولكن خصني نبقى هنا......   \n",
       "4  أمين باستهزاء:واش باش ماتنوضش الفتنة تمشي نتي ...   \n",
       "\n",
       "                                             newText  \n",
       "0                                رؤيا: م مانقدرش...   \n",
       "1  أمين تصدم: ش شنو!!.. واش حماقيتي... علاش ماتقد...  \n",
       "2                    صلاح كيشوفيها عاض علا شنافتو..   \n",
       "3  رؤيا: ل لا لا ماخايفاش.. و ولكن خصني نبقى هنا....  \n",
       "4  أمين باستهزاء: واش باش ماتنوضش الفتنة تمشي نتي...  "
      ]
     },
     "execution_count": 43,
     "metadata": {},
     "output_type": "execute_result"
    }
   ],
   "source": [
    "df = pd.read_csv('story_data_2.tsv', sep = '\\t')\n",
    "df.head()"
   ]
  },
  {
   "cell_type": "code",
   "execution_count": 44,
   "metadata": {},
   "outputs": [
    {
     "data": {
      "text/plain": [
       "0                                  رؤيا: م مانقدرش... \n",
       "1    أمين تصدم: ش شنو!!.. واش حماقيتي... علاش ماتقد...\n",
       "2                      صلاح كيشوفيها عاض علا شنافتو.. \n",
       "3    رؤيا: ل لا لا ماخايفاش.. و ولكن خصني نبقى هنا....\n",
       "4    أمين باستهزاء: واش باش ماتنوضش الفتنة تمشي نتي...\n",
       "Name: newText, dtype: object"
      ]
     },
     "execution_count": 44,
     "metadata": {},
     "output_type": "execute_result"
    }
   ],
   "source": [
    "import re\n",
    "import pandas as pd\n",
    "\n",
    "def insert_space_after_punctuation(arabic_text):\n",
    "    pattern = re.compile(r'([؟،؛!.“”»():…]+)')\n",
    "    modified_text = re.sub(pattern, r'\\1 ', arabic_text)\n",
    "    return modified_text\n",
    "\n",
    "df['newText'] = df['text'].apply(insert_space_after_punctuation)\n",
    "df['newText'].head()\n"
   ]
  },
  {
   "cell_type": "code",
   "execution_count": 45,
   "metadata": {},
   "outputs": [
    {
     "data": {
      "text/plain": [
       "0                                      رؤيا م مانقدرش \n",
       "1    أمين تصدم ش شنو واش حماقيتي علاش ماتقدريش خايف...\n",
       "2                        صلاح كيشوفيها عاض علا شنافتو \n",
       "3    رؤيا ل لا لا ماخايفاش و ولكن خصني نبقى هنا ماب...\n",
       "4    أمين باستهزاء واش باش ماتنوضش الفتنة تمشي نتي ...\n",
       "Name: newText, dtype: object"
      ]
     },
     "execution_count": 45,
     "metadata": {},
     "output_type": "execute_result"
    }
   ],
   "source": [
    "def remove_punctuations(text):\n",
    "    return text.translate(str.maketrans('', '', '؟!،“”:؛«»…[]†*^.()`/..')) \n",
    "\n",
    "df.to_csv('story_data_2.tsv', sep = '\\t', index = False)\n",
    "\n",
    "df['newText'] = df['newText'].apply(remove_punctuations)\n",
    "df['newText'].head()"
   ]
  },
  {
   "cell_type": "code",
   "execution_count": 46,
   "metadata": {},
   "outputs": [
    {
     "name": "stderr",
     "output_type": "stream",
     "text": [
      "[nltk_data] Downloading package punkt to\n",
      "[nltk_data]     /Users/tahachadli/nltk_data...\n",
      "[nltk_data]   Package punkt is already up-to-date!\n"
     ]
    },
    {
     "data": {
      "text/plain": [
       "True"
      ]
     },
     "execution_count": 46,
     "metadata": {},
     "output_type": "execute_result"
    }
   ],
   "source": [
    "import nltk\n",
    "nltk.download('punkt')"
   ]
  },
  {
   "cell_type": "code",
   "execution_count": 47,
   "metadata": {},
   "outputs": [
    {
     "data": {
      "text/plain": [
       "0                                        [رؤيا, م, مانقدرش]\n",
       "1         [أمين, تصدم, ش, شنو, واش, حماقيتي, علاش, ماتقد...\n",
       "2                        [صلاح, كيشوفيها, عاض, علا, شنافتو]\n",
       "3         [رؤيا, ل, لا, لا, ماخايفاش, و, ولكن, خصني, نبق...\n",
       "4         [أمين, باستهزاء, واش, باش, ماتنوضش, الفتنة, تم...\n",
       "                                ...                        \n",
       "154168           [جلسها, على, رجلو, وهي, كتشوف, فيه, وتقول]\n",
       "154169    [-, بابا, حيد, ليها, القميجة, ديالك, علاش, عطي...\n",
       "154170    [ضحكات, سمنتا, وقالت, عندي, غير, انا, كيعجبوني...\n",
       "154171    [شافت, بنص, عين, فاشراق, وشربات, قهوتها, بمتعة...\n",
       "154172                                               [يتبع]\n",
       "Name: newText, Length: 154173, dtype: object"
      ]
     },
     "execution_count": 47,
     "metadata": {},
     "output_type": "execute_result"
    }
   ],
   "source": [
    "#Tokenize the dataset\n",
    "from nltk.tokenize import word_tokenize\n",
    "\n",
    "df['newText'] = df['newText'].apply(lambda x: word_tokenize(x))\n",
    "df['newText']"
   ]
  },
  {
   "cell_type": "code",
   "execution_count": 48,
   "metadata": {},
   "outputs": [],
   "source": [
    "#Removing digits\n",
    "df['newText'] = df['newText'].apply(lambda x: [w for w in x if not w.isdigit()])"
   ]
  },
  {
   "cell_type": "code",
   "execution_count": 49,
   "metadata": {},
   "outputs": [],
   "source": [
    "from gensim.models import Word2Vec\n",
    "\n",
    "model = Word2Vec(df['newText'], vector_size = 100, window = 12, negative = 5, sg = 0, min_count = 1, workers = 4)\n",
    "\n",
    "model.save(\"darija_word2vec.model\")"
   ]
  },
  {
   "cell_type": "code",
   "execution_count": 50,
   "metadata": {},
   "outputs": [
    {
     "data": {
      "text/plain": [
       "array([-7.24569932e-02, -1.01381456e-02, -1.90444123e-02,  5.75258881e-02,\n",
       "        3.21949497e-02, -8.02024007e-02, -2.03398112e-02,  4.55626957e-02,\n",
       "       -9.03704483e-03, -4.10505645e-02, -9.24357176e-02,  1.48398830e-02,\n",
       "        3.10060009e-03,  3.43011655e-02,  2.90820245e-02, -1.19681153e-02,\n",
       "       -8.70585907e-03, -3.07229720e-02,  1.88688003e-02, -3.43357325e-02,\n",
       "       -5.01785660e-03,  3.06127928e-02,  7.38988072e-02, -1.19965198e-02,\n",
       "        4.20995615e-02,  3.71719077e-02, -1.71764623e-02,  2.73276754e-02,\n",
       "       -1.15380436e-02, -2.46761106e-02,  5.45477010e-02, -2.42708391e-03,\n",
       "        9.65598691e-03, -6.36961982e-02,  1.48779247e-02, -1.73824131e-02,\n",
       "       -2.72972956e-02,  5.52189164e-03, -5.80886751e-02, -6.89896271e-02,\n",
       "       -5.64272702e-02, -1.25778969e-02, -5.37830107e-02, -4.94069420e-03,\n",
       "        2.46875752e-02,  3.73149477e-02, -2.83278450e-02, -7.77522661e-03,\n",
       "       -1.64736230e-02,  1.68619100e-02, -1.75019447e-02, -3.88966314e-02,\n",
       "        1.93213169e-02,  5.43642528e-02, -9.49212536e-02, -3.28646265e-02,\n",
       "       -3.42658870e-02, -9.96583980e-03, -3.20812650e-02,  6.99846121e-03,\n",
       "        1.10262949e-02,  9.13689844e-03,  4.92183343e-02,  2.94278270e-05,\n",
       "        1.53299384e-02, -4.35100961e-03,  6.78698346e-02,  1.80121195e-02,\n",
       "       -3.83347832e-02,  7.32500851e-02, -4.10214290e-02,  1.06743023e-01,\n",
       "        1.00083955e-01, -2.19369438e-02, -8.98783188e-03, -2.03019679e-02,\n",
       "       -5.56661189e-03, -5.68590052e-02,  2.69929301e-02,  3.00760027e-02,\n",
       "       -1.09698579e-01, -1.80851910e-02, -3.16750854e-02,  2.89800763e-02,\n",
       "       -3.33369486e-02, -8.05026963e-02, -2.79609468e-02,  4.62032482e-02,\n",
       "        8.36115256e-02,  1.94620751e-02,  6.00950718e-02,  2.23958734e-02,\n",
       "        4.34260406e-02,  1.51522420e-02,  2.25407314e-02,  1.81043558e-02,\n",
       "        2.21291166e-02,  2.48570018e-03,  2.02932004e-02, -5.25832996e-02],\n",
       "      dtype=float32)"
      ]
     },
     "execution_count": 50,
     "metadata": {},
     "output_type": "execute_result"
    }
   ],
   "source": [
    "#printing the embedding of the word 'بمتعة'\n",
    "vector = model.wv['بمتعة']\n",
    "vector"
   ]
  },
  {
   "cell_type": "code",
   "execution_count": 51,
   "metadata": {},
   "outputs": [
    {
     "name": "stdout",
     "output_type": "stream",
     "text": [
      "[('تسطيتي', 0.9575454592704773), ('مكتفهمش', 0.9160138964653015), ('حماااقيتي', 0.9021043181419373), ('كضرك', 0.9009381532669067), ('كتسمعيني', 0.8976233005523682), ('كتسمعني', 0.893059492111206), ('جهلتي', 0.8915073275566101), ('ولالا', 0.8875657916069031), ('صعرت', 0.8827675580978394), ('ضربك', 0.8778283596038818)]\n"
     ]
    }
   ],
   "source": [
    "#printing similar words to 'حماقيتي'\n",
    "print(model.wv.most_similar('حماقيتي'))"
   ]
  },
  {
   "cell_type": "code",
   "execution_count": 52,
   "metadata": {},
   "outputs": [
    {
     "name": "stdout",
     "output_type": "stream",
     "text": [
      "[('كاتشوف', 0.9275848269462585), ('وكتشوف', 0.9184357523918152), ('كطلع', 0.865208625793457), ('وشافت', 0.8625654578208923), ('شافت', 0.8586376309394836), ('ساهية', 0.8477962613105774), ('وتشوف', 0.8370108604431152), ('وتهبط', 0.8352929949760437), ('فملامحهاا', 0.8317453265190125), ('ماشافتش', 0.8286303877830505)]\n"
     ]
    }
   ],
   "source": [
    "#printing similar words to 'كتشوف'\n",
    "print(model.wv.most_similar('كتشوف'))"
   ]
  },
  {
   "cell_type": "code",
   "execution_count": 54,
   "metadata": {},
   "outputs": [
    {
     "name": "stdout",
     "output_type": "stream",
     "text": [
      "[('تزنكات', 0.9487675428390503), ('سيفتها', 0.9419373273849487), ('تبسماات', 0.9404013752937317), ('صوفي', 0.9400550127029419), ('أنثوية', 0.9383809566497803), ('بمرح', 0.938186526298523), ('همساتلو', 0.9362223744392395), ('صونيا', 0.9361691474914551), ('اويليي', 0.9357129335403442), ('تشووف', 0.9352482557296753)]\n"
     ]
    }
   ],
   "source": [
    "#printing similar words to 'ضحكات'\n",
    "print(model.wv.most_similar('ضحكات'))"
   ]
  }
 ],
 "metadata": {
  "kernelspec": {
   "display_name": "Python 3",
   "language": "python",
   "name": "python3"
  },
  "language_info": {
   "codemirror_mode": {
    "name": "ipython",
    "version": 3
   },
   "file_extension": ".py",
   "mimetype": "text/x-python",
   "name": "python",
   "nbconvert_exporter": "python",
   "pygments_lexer": "ipython3",
   "version": "3.11.2"
  }
 },
 "nbformat": 4,
 "nbformat_minor": 2
}
